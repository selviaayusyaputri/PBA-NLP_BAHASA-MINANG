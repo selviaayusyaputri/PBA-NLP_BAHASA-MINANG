{
  "cells": [
    {
      "cell_type": "markdown",
      "metadata": {
        "id": "view-in-github",
        "colab_type": "text"
      },
      "source": [
        "<a href=\"https://colab.research.google.com/github/selviaayusyaputri/PBA-NLP_BAHASA-MINANG/blob/main/Bahasa_Minangg_fiks.ipynb\" target=\"_parent\"><img src=\"https://colab.research.google.com/assets/colab-badge.svg\" alt=\"Open In Colab\"/></a>"
      ]
    },
    {
      "cell_type": "code",
      "source": [
        "#dataset\n",
        "\n",
        "data = {\n",
        "    'indonesia': [\n",
        "        'makan', 'minum', 'pergi', 'datang', 'tidur', 'bangun', 'berlari', 'berjalan', 'melihat', 'mendengar',\n",
        "        'bicara', 'duduk', 'berdiri', 'senyum', 'tertawa', 'menangis', 'belajar', 'mengajar', 'menulis', 'membaca',\n",
        "        'rumah', 'sekolah', 'kantor', 'pasar', 'warung', 'kamar', 'meja', 'kursi', 'jendela', 'pintu',\n",
        "        'ayah', 'ibu', 'adik', 'kakak', 'teman', 'guru', 'murid', 'tetangga', 'anak', 'istri',\n",
        "        'suami', 'nenek', 'kakek', 'keluarga', 'orang', 'perempuan', 'laki-laki', 'pakai', 'buka', 'tutup',\n",
        "        'masuk', 'keluar', 'naik', 'turun', 'ambil', 'taruh', 'lempar', 'tangkap', 'tolong', 'maaf',\n",
        "        'iya', 'tidak', 'mau', 'bisa', 'harus', 'boleh', 'sudah', 'belum', 'lagi', 'sedang',\n",
        "        'sore', 'pagi', 'siang', 'malam', 'hari', 'bulan', 'tahun', 'kemarin', 'besok', 'sekarang',\n",
        "        'air', 'api', 'tanah', 'udara', 'hujan', 'panas', 'dingin', 'gelap', 'terang', 'cuaca',\n",
        "        'ikan', 'ayam', 'sapi', 'kerbau', 'kucing', 'anjing', 'burung', 'ular', 'kuda', 'bebek',\n",
        "        'rendang', 'sate', 'gulai', 'nasi', 'lontong', 'sayur', 'buah', 'jeruk', 'pisang', 'mangga',\n",
        "        'mobil', 'motor', 'sepeda', 'jalan', 'jembatan', 'gunung', 'laut', 'sungai', 'danau', 'pantai',\n",
        "        'baju', 'celana', 'sepatu', 'topi', 'kaos', 'jaket', 'payung', 'tas', 'kaca', 'cermin',\n",
        "        'uang', 'emas', 'perak', 'barang', 'harga', 'murah', 'mahal', 'jual', 'beli', 'tawar',\n",
        "        'kerja', 'libur', 'cuti', 'gaji', 'bos', 'pegawai', 'teman', 'rekan', 'rapat', 'proyek',\n",
        "        'main', 'lari', 'bola', 'layang', 'kelereng', 'gasing', 'petak', 'gambar', 'nonton', 'film',\n",
        "        'dokter', 'perawat', 'sakit', 'obat', 'rumah sakit', 'puskesmas', 'klinik', 'demam', 'flu', 'batuk',\n",
        "        'hati', 'otak', 'mata', 'telinga', 'hidung', 'mulut', 'gigi', 'tangan', 'kaki', 'perut', 'ya ampun', 'tambah macam', 'apa kabar', 'berapa itu', 'kapan tiba', 'sudah makan?',\n",
        "    'enak sekali', 'indah sekali', 'apa itu', 'apa ini', 'siapa itu', 'pergi kemana',\n",
        "    'berhenti di sini', 'tidak ada uang kecil', 'air hangat satu', 'berapa semuanya',\n",
        "    'ke sinilah', 'pesan empat porsi', 'bungkus satu', 'sulit banget', 'bisa kurang?',\n",
        "    'berapa pasnya', 'kurang sedikit', 'lagi apa?', 'aku ikut dong', 'dari seberang',\n",
        "    'hati-hati ya', 'pergi ke pernikahan', 'terserah', 'nanti dia marah', 'kenapa aku terus?',\n",
        "    'pinjam sendal ya', 'cari di mana lagi?', 'aku ngantuk banget', 'aku kekenyangan',\n",
        "    'perempuan', 'laki-laki', 'aku', 'ibu', 'ayah', 'ke'\n",
        "    ],\n",
        "    'minang': [\n",
        "        'makan', 'minum', 'pai', 'datang', 'baradu', 'bangun', 'babaliak', 'banalan', 'maliek', 'mangaruik',\n",
        "        'babicaro', 'duduak', 'tagak', 'sanyuik', 'tagakak', 'manangih', 'mambalajari', 'mangajarkan', 'manulih', 'mambaco',\n",
        "        'rumah', 'sakolah', 'kantor', 'pasa', 'waruang', 'kamar', 'meja', 'kursi', 'jandela', 'pintu',\n",
        "        'ayah', 'ibu', 'adik', 'uni', 'kawan', 'guru', 'murid', 'tetanggo', 'anak', 'bini',\n",
        "        'sumando', 'ndak', 'apek', 'urang rumah', 'urang', 'padusi', 'laki-laki', 'mamakai', 'mambuka', 'manutuik',\n",
        "        'masuak', 'kelua', 'naik', 'turun', 'mangambiek', 'manaruah', 'mambuang', 'mangangka', 'tolong', 'maaf',\n",
        "        'iyo', 'ndak', 'kandak', 'bisa', 'harus', 'boleh', 'alun', 'balum', 'lai', 'tengah',\n",
        "        'sore', 'pagi', 'siang', 'malam', 'hari', 'bulan', 'tahun', 'kamaren', 'esok', 'kiniko',\n",
        "        'aia', 'api', 'tanah', 'udaro', 'hujan', 'panas', 'dingin', 'galap', 'tarang', 'cuaco',\n",
        "        'ikan', 'ayam', 'sapi', 'kabau', 'kuciang', 'anjing', 'buruang', 'ular', 'kudo', 'itik',\n",
        "        'randang', 'sate', 'gulai', 'nasi', 'lontong', 'sayua', 'buah', 'jeruk', 'pisang', 'mangga',\n",
        "        'mobiak', 'montor', 'sapeda', 'jalan', 'jambatan', 'gunuang', 'lautan', 'batang aia', 'danau', 'pantai',\n",
        "        'baju', 'calano', 'sapatu', 'deta', 'kaos', 'jaket', 'payuang', 'tas', 'kaca', 'cermin',\n",
        "        'uang', 'amas', 'perak', 'barang', 'harga', 'murah', 'mahal', 'juo', 'bali', 'tawar',\n",
        "        'karajo', 'libua', 'cuti', 'gaji', 'bos', 'pegawai', 'kawan', 'rakan', 'rapek', 'proyek',\n",
        "        'main', 'larian', 'balo', 'layang', 'kalering', 'gasiang', 'petak umpet', 'gambar', 'nonton', 'filem',\n",
        "        'dokter', 'parawat', 'sakit', 'obat', 'rumah sakit', 'puskesmas', 'klinik', 'demam', 'flu', 'batuek',\n",
        "        'hati', 'otak', 'mato', 'talingo', 'idung', 'mulut', 'gigi', 'tangan', 'kaki', 'parut', 'onde mande', 'tambuah ciek', 'baa kaba?', 'bara tu ni?', 'bilo tibo?',\n",
        "    'alah makan?', 'lamak bana', 'rancak bana', 'a ko', 'a ni', 'sia tu?', 'pai kama tu?',\n",
        "    'siko ciek', 'nda ado pitiah ketek', 'aiaa angek ciek', 'bara sadonyo?',\n",
        "    'siko lah', 'makan ampek', 'bungkuih ciek', 'kamari payah', 'lai bisa kurang?',\n",
        "    'bara pasnyo?', 'kuranglah saketek', 'manga tu?', 'pai awak ciek',\n",
        "    'dari subaliak nagari tan', 'elok-elok yo', 'pai baralek', 'suko-suko ang lah',\n",
        "    'berang paja tu beko', 'awak tarui se mah', 'pinjam awak tarompa yo',\n",
        "    'dima ka dicari lai koh?', 'ambo takantuak bana', 'kakanyangan ambo',\n",
        "    'uni', 'uda', 'ambo', 'amak', 'apak', 'ka'\n",
        "    ]\n",
        "}\n",
        ""
      ],
      "metadata": {
        "id": "6QE4Mxma5rLZ"
      },
      "execution_count": 61,
      "outputs": []
    },
    {
      "cell_type": "code",
      "source": [],
      "metadata": {
        "id": "ptxprbSDw1UN"
      },
      "execution_count": 61,
      "outputs": []
    },
    {
      "cell_type": "code",
      "source": [
        "\n",
        "ind_to_min = dict(zip(data['indonesia'], data['minang']))\n",
        "min_to_ind = dict(zip(data['minang'], data['indonesia']))"
      ],
      "metadata": {
        "id": "Wjuv76nK53ak"
      },
      "execution_count": 62,
      "outputs": []
    },
    {
      "cell_type": "code",
      "source": [
        "def translate_id_to_minang(sentence):\n",
        "    words = sentence.lower().split()\n",
        "    translated = []\n",
        "    for word in words:\n",
        "        if word in ind_to_min:\n",
        "            translated.append(ind_to_min[word])\n",
        "        else:\n",
        "            translated.append(f\"[{word}]\")\n",
        "    return ' '.join(translated)\n",
        "\n",
        "def translate_minang_to_id(sentence):\n",
        "    words = sentence.lower().split()\n",
        "    translated = []\n",
        "    for word in words:\n",
        "        if word in min_to_ind:\n",
        "            translated.append(min_to_ind[word])\n",
        "        else:\n",
        "            translated.append(f\"[{word}]\")\n",
        "    return ' '.join(translated)\n"
      ],
      "metadata": {
        "id": "OqfEcUk_59w8"
      },
      "execution_count": 63,
      "outputs": []
    },
    {
      "cell_type": "code",
      "source": [
        "import gradio as gr\n",
        "\n",
        "def translate_interface(text, direction):\n",
        "    if direction == \"id-to-minang\":\n",
        "        return translate_id_to_minang(text)\n",
        "    else:\n",
        "        return translate_minang_to_id(text)\n"
      ],
      "metadata": {
        "id": "z-pZXnJJ5_uc"
      },
      "execution_count": 64,
      "outputs": []
    },
    {
      "cell_type": "code",
      "source": [
        "iface = gr.Interface(\n",
        "    fn=translate_interface,\n",
        "    inputs=[\n",
        "gr.Textbox(label=\" Masukkan Kalimat\", placeholder=\"Contoh: Saya pergi ke pasar\", lines=2),\n",
        "        gr.Radio(\n",
        "            choices=[\"id-to-minang\", \"minang-to-id\"],\n",
        "            label=\"Arah Terjemahan\",\n",
        "            value=\"id-to-minang\"\n",
        "        )\n",
        "    ],\n",
        "    outputs=gr.Textbox(label=\"Hasil Terjemahan\"),\n",
        "    title=\"Penerjemah Bahasa Indonesia ↔ Minang\",\n",
        "    description=\"Masukkan kalimat dalam Bahasa Indonesia atau Minang untuk diterjemahkan.\",\n",
        "    theme=gr.themes.soft,\n",
        "\n",
        "        flagging_mode=\"manual\",\n",
        "    flagging_callback=gr.CSVLogger(),\n",
        "\n",
        "    css=\"\"\"\n",
        "         .gradio-container {\n",
        "            max-width: 720px !important;\n",
        "            margin: 40px auto !important;\n",
        "            border-radius: 20px;\n",
        "            padding: 32px 40px;\n",
        "            box-shadow: 0 16px 40px rgba(0, 0, 0, 0.1);\n",
        "            background: linear-gradient(to right, #fbfff0, #fff);\n",
        "            font-family: 'Segoe UI', sans-serif;\n",
        "        }\n",
        "        .gr-button {\n",
        "            font-weight: 600;\n",
        "            width: 100%;\n",
        "            background-color: #e67e22 !important;\n",
        "            color: white !important;\n",
        "            padding: 0.9rem 1.6rem;\n",
        "             border-radius: 16px !important;\n",
        "        box-shadow: 0 4px 14px rgba(230, 126, 34, 0.4);\n",
        "            transition: all 0.3s ease-in-out;\n",
        "\n",
        "\n",
        "        }\n",
        "\n",
        "        .gr-button:hover {\n",
        "            background-color: #d35400 !important;\n",
        "            transform: scale(1.03);\n",
        "        }\n",
        "\n",
        "        .gr-input, .gr-textbox, .gr-radio {\n",
        "            border-radius: 12px !important;\n",
        "        }\n",
        "\n",
        "\n",
        "        h1, h2 {\n",
        "            text-align: center;\n",
        "            color: #e67e22;\n",
        "        }\n",
        "\n",
        "        label {\n",
        "            font-weight: 600 !important;\n",
        "            color: #333 !important;\n",
        "        }\n",
        "\n",
        "        .gr-flag-button {\n",
        "            background-color: transparent !important;\n",
        "            border: 1.5px dashed #e67e22 !important;\n",
        "            color: #e67e22 !important;\n",
        "            border-radius: 12px !important;\n",
        "            transition: all 0.2s ease-in-out;\n",
        "        }\n",
        "\n",
        "        .gr-flag-button:hover {\n",
        "            background-color: #fef5ec !important;\n",
        "            cursor: pointer;\n",
        "        }\n",
        "    \"\"\"\n",
        ")\n",
        "\n",
        "iface.launch()\n"
      ],
      "metadata": {
        "colab": {
          "base_uri": "https://localhost:8080/",
          "height": 680
        },
        "id": "4wp_uwcc6BXt",
        "outputId": "112aa6cb-e50a-4fee-a16d-af229c2a12c1"
      },
      "execution_count": 65,
      "outputs": [
        {
          "output_type": "stream",
          "name": "stderr",
          "text": [
            "/usr/local/lib/python3.11/dist-packages/gradio/blocks.py:1156: UserWarning: Theme should be a class loaded from gradio.themes\n",
            "  warnings.warn(\"Theme should be a class loaded from gradio.themes\")\n"
          ]
        },
        {
          "output_type": "stream",
          "name": "stdout",
          "text": [
            "It looks like you are running Gradio on a hosted a Jupyter notebook. For the Gradio app to work, sharing must be enabled. Automatically setting `share=True` (you can turn this off by setting `share=False` in `launch()` explicitly).\n",
            "\n",
            "Colab notebook detected. To show errors in colab notebook, set debug=True in launch()\n",
            "* Running on public URL: https://08a9e18fcfd5596967.gradio.live\n",
            "\n",
            "This share link expires in 1 week. For free permanent hosting and GPU upgrades, run `gradio deploy` from the terminal in the working directory to deploy to Hugging Face Spaces (https://huggingface.co/spaces)\n"
          ]
        },
        {
          "output_type": "display_data",
          "data": {
            "text/plain": [
              "<IPython.core.display.HTML object>"
            ],
            "text/html": [
              "<div><iframe src=\"https://08a9e18fcfd5596967.gradio.live\" width=\"100%\" height=\"500\" allow=\"autoplay; camera; microphone; clipboard-read; clipboard-write;\" frameborder=\"0\" allowfullscreen></iframe></div>"
            ]
          },
          "metadata": {}
        },
        {
          "output_type": "execute_result",
          "data": {
            "text/plain": []
          },
          "metadata": {},
          "execution_count": 65
        }
      ]
    }
  ],
  "metadata": {
    "colab": {
      "provenance": [],
      "authorship_tag": "ABX9TyPbQXuDSUPLFlG4o8hjHM2M",
      "include_colab_link": true
    },
    "kernelspec": {
      "display_name": "Python 3",
      "name": "python3"
    },
    "language_info": {
      "name": "python"
    }
  },
  "nbformat": 4,
  "nbformat_minor": 0
}